{
 "cells": [
  {
   "cell_type": "markdown",
   "metadata": {},
   "source": [
    "# Splitting the data in train and test dataset\n"
   ]
  },
  {
   "cell_type": "code",
   "execution_count": 6,
   "metadata": {},
   "outputs": [
    {
     "name": "stdout",
     "output_type": "stream",
     "text": [
      "Data split completed.\n"
     ]
    }
   ],
   "source": [
    "import os\n",
    "import random\n",
    "import shutil\n",
    "\n",
    "# Define paths\n",
    "data_dir = 'data/devnagari/'\n",
    "train_dir = 'data/train/'\n",
    "test_dir = 'data/test/'\n",
    "split_ratio = 0.8  # 80% for training, 20% for testing\n",
    "\n",
    "# Create train and test directories if they don't exist\n",
    "os.makedirs(train_dir, exist_ok=True)\n",
    "os.makedirs(test_dir, exist_ok=True)\n",
    "\n",
    "# Walk through the data directory\n",
    "for root, dirs, files in os.walk(data_dir):\n",
    "    for directory in dirs:\n",
    "        files_path = os.path.join(root, directory)\n",
    "        files_list = os.listdir(files_path)\n",
    "        random.shuffle(files_list)  # Shuffle files randomly\n",
    "\n",
    "        # Split files into train and test sets\n",
    "        split_index = int(len(files_list) * split_ratio)\n",
    "        train_files = files_list[:split_index]\n",
    "        test_files = files_list[split_index:]\n",
    "\n",
    "        # Move files to train directory\n",
    "        for file_name in train_files:\n",
    "            src = os.path.join(files_path, file_name)\n",
    "            dst = os.path.join(train_dir, directory, file_name)\n",
    "            os.makedirs(os.path.dirname(dst), exist_ok=True)\n",
    "            shutil.copy(src, dst)\n",
    "\n",
    "        # Move files to test directory\n",
    "        for file_name in test_files:\n",
    "            src = os.path.join(files_path, file_name)\n",
    "            dst = os.path.join(test_dir, directory, file_name)\n",
    "            os.makedirs(os.path.dirname(dst), exist_ok=True)\n",
    "            shutil.copy(src, dst)\n",
    "\n",
    "print(\"Data split completed.\")\n"
   ]
  }
 ],
 "metadata": {
  "kernelspec": {
   "display_name": "base",
   "language": "python",
   "name": "python3"
  },
  "language_info": {
   "codemirror_mode": {
    "name": "ipython",
    "version": 3
   },
   "file_extension": ".py",
   "mimetype": "text/x-python",
   "name": "python",
   "nbconvert_exporter": "python",
   "pygments_lexer": "ipython3",
   "version": "3.11.5"
  }
 },
 "nbformat": 4,
 "nbformat_minor": 2
}
