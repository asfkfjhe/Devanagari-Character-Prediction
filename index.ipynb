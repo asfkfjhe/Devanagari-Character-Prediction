{
 "cells": [
  {
   "cell_type": "code",
   "execution_count": 1,
   "metadata": {},
   "outputs": [],
   "source": [
    "import os \n",
    "from pathlib import Path"
   ]
  },
  {
   "cell_type": "code",
   "execution_count": 2,
   "metadata": {},
   "outputs": [],
   "source": [
    "image_path = Path('data_0')"
   ]
  },
  {
   "cell_type": "code",
   "execution_count": 3,
   "metadata": {},
   "outputs": [],
   "source": [
    "def walk_through_dir(dir_path):\n",
    "    for dirpath, dirnames, filenames in os.walk(dir_path):\n",
    "        print(f\"There are {len(dirnames)} directories and {len(filenames)} images in '{dirpath}'.\")"
   ]
  },
  {
   "cell_type": "code",
   "execution_count": 4,
   "metadata": {},
   "outputs": [
    {
     "name": "stdout",
     "output_type": "stream",
     "text": [
      "There are 1 directories and 0 images in 'data_0'.\n",
      "There are 3 directories and 0 images in 'data_0/devnagari'.\n",
      "There are 12 directories and 0 images in 'data_0/devnagari/vowels'.\n",
      "There are 0 directories and 221 images in 'data_0/devnagari/vowels/i'.\n",
      "There are 0 directories and 221 images in 'data_0/devnagari/vowels/aa'.\n",
      "There are 0 directories and 221 images in 'data_0/devnagari/vowels/ee'.\n",
      "There are 0 directories and 221 images in 'data_0/devnagari/vowels/o'.\n",
      "There are 0 directories and 221 images in 'data_0/devnagari/vowels/u'.\n",
      "There are 0 directories and 221 images in 'data_0/devnagari/vowels/ai'.\n",
      "There are 0 directories and 221 images in 'data_0/devnagari/vowels/au'.\n",
      "There are 0 directories and 221 images in 'data_0/devnagari/vowels/ae'.\n",
      "There are 0 directories and 221 images in 'data_0/devnagari/vowels/ah'.\n",
      "There are 0 directories and 221 images in 'data_0/devnagari/vowels/an'.\n",
      "There are 0 directories and 221 images in 'data_0/devnagari/vowels/a'.\n",
      "There are 0 directories and 221 images in 'data_0/devnagari/vowels/oo'.\n",
      "There are 10 directories and 0 images in 'data_0/devnagari/numerals'.\n",
      "There are 0 directories and 288 images in 'data_0/devnagari/numerals/7'.\n",
      "There are 0 directories and 288 images in 'data_0/devnagari/numerals/8'.\n",
      "There are 0 directories and 288 images in 'data_0/devnagari/numerals/4'.\n",
      "There are 0 directories and 288 images in 'data_0/devnagari/numerals/9'.\n",
      "There are 0 directories and 288 images in 'data_0/devnagari/numerals/0'.\n",
      "There are 0 directories and 288 images in 'data_0/devnagari/numerals/5'.\n",
      "There are 0 directories and 288 images in 'data_0/devnagari/numerals/3'.\n",
      "There are 0 directories and 288 images in 'data_0/devnagari/numerals/2'.\n",
      "There are 0 directories and 288 images in 'data_0/devnagari/numerals/6'.\n",
      "There are 0 directories and 288 images in 'data_0/devnagari/numerals/1'.\n",
      "There are 36 directories and 0 images in 'data_0/devnagari/consonants'.\n",
      "There are 0 directories and 205 images in 'data_0/devnagari/consonants/ka'.\n",
      "There are 0 directories and 205 images in 'data_0/devnagari/consonants/yna'.\n",
      "There are 0 directories and 205 images in 'data_0/devnagari/consonants/la'.\n",
      "There are 0 directories and 205 images in 'data_0/devnagari/consonants/cha'.\n",
      "There are 0 directories and 205 images in 'data_0/devnagari/consonants/jha'.\n",
      "There are 0 directories and 205 images in 'data_0/devnagari/consonants/ana'.\n",
      "There are 0 directories and 205 images in 'data_0/devnagari/consonants/bha'.\n",
      "There are 0 directories and 205 images in 'data_0/devnagari/consonants/va'.\n",
      "There are 0 directories and 205 images in 'data_0/devnagari/consonants/ga'.\n",
      "There are 0 directories and 205 images in 'data_0/devnagari/consonants/kha'.\n",
      "There are 0 directories and 205 images in 'data_0/devnagari/consonants/ba'.\n",
      "There are 0 directories and 205 images in 'data_0/devnagari/consonants/daa'.\n",
      "There are 0 directories and 205 images in 'data_0/devnagari/consonants/ha'.\n",
      "There are 0 directories and 205 images in 'data_0/devnagari/consonants/da'.\n",
      "There are 0 directories and 205 images in 'data_0/devnagari/consonants/gha'.\n",
      "There are 0 directories and 205 images in 'data_0/devnagari/consonants/ya'.\n",
      "There are 0 directories and 205 images in 'data_0/devnagari/consonants/ra'.\n",
      "There are 0 directories and 205 images in 'data_0/devnagari/consonants/ma'.\n",
      "There are 0 directories and 205 images in 'data_0/devnagari/consonants/patalosaw'.\n",
      "There are 0 directories and 205 images in 'data_0/devnagari/consonants/na'.\n",
      "There are 0 directories and 205 images in 'data_0/devnagari/consonants/kna'.\n",
      "There are 0 directories and 205 images in 'data_0/devnagari/consonants/taa'.\n",
      "There are 0 directories and 205 images in 'data_0/devnagari/consonants/tha'.\n",
      "There are 0 directories and 205 images in 'data_0/devnagari/consonants/pha'.\n",
      "There are 0 directories and 205 images in 'data_0/devnagari/consonants/pa'.\n",
      "There are 0 directories and 205 images in 'data_0/devnagari/consonants/gya'.\n",
      "There are 0 directories and 205 images in 'data_0/devnagari/consonants/thaa'.\n",
      "There are 0 directories and 205 images in 'data_0/devnagari/consonants/dha'.\n",
      "There are 0 directories and 205 images in 'data_0/devnagari/consonants/chha'.\n",
      "There are 0 directories and 205 images in 'data_0/devnagari/consonants/motosaw'.\n",
      "There are 0 directories and 205 images in 'data_0/devnagari/consonants/petchiryosaw'.\n",
      "There are 0 directories and 205 images in 'data_0/devnagari/consonants/ksha'.\n",
      "There are 0 directories and 205 images in 'data_0/devnagari/consonants/tra'.\n",
      "There are 0 directories and 205 images in 'data_0/devnagari/consonants/ta'.\n",
      "There are 0 directories and 205 images in 'data_0/devnagari/consonants/dhaa'.\n",
      "There are 0 directories and 205 images in 'data_0/devnagari/consonants/ja'.\n"
     ]
    }
   ],
   "source": [
    "\n",
    "walk_through_dir(image_path)"
   ]
  },
  {
   "cell_type": "code",
   "execution_count": 5,
   "metadata": {},
   "outputs": [],
   "source": [
    "data_dir = image_path / \"devnagari\""
   ]
  },
  {
   "cell_type": "code",
   "execution_count": 6,
   "metadata": {},
   "outputs": [
    {
     "data": {
      "text/plain": [
       "PosixPath('data_0/devnagari')"
      ]
     },
     "execution_count": 6,
     "metadata": {},
     "output_type": "execute_result"
    }
   ],
   "source": [
    "data_dir"
   ]
  },
  {
   "cell_type": "code",
   "execution_count": 7,
   "metadata": {},
   "outputs": [
    {
     "name": "stdout",
     "output_type": "stream",
     "text": [
      "Random image path: data_0/devnagari/consonants/cha/002_02.jpg\n",
      "Image class: cha\n",
      "Image category: consonants\n",
      "Image height: 28\n",
      "Image width: 28\n"
     ]
    },
    {
     "data": {
      "image/png": "[encoded data removed]",
      "text/plain": [
       "<PIL.JpegImagePlugin.JpegImageFile image mode=L size=28x28>"
      ]
     },
     "execution_count": 7,
     "metadata": {},
     "output_type": "execute_result"
    }
   ],
   "source": [
    "import random\n",
    "from PIL import Image\n",
    "\n",
    "random.seed(0)\n",
    "\n",
    "image_path_list = list(image_path.glob(\"*/*/*/*.jpg\"))\n",
    "\n",
    "\n",
    "random_image_path = random.choice(image_path_list)\n",
    "\n",
    "image_class = random_image_path.parent.stem\n",
    "image_category = random_image_path.parent.parent.stem\n",
    "\n",
    "\n",
    "img = Image.open(random_image_path)\n",
    "\n",
    "print(f\"Random image path: {random_image_path}\")\n",
    "print(f\"Image class: {image_class}\")\n",
    "print(f\"Image category: {image_category}\")\n",
    "\n",
    "print(f\"Image height: {img.height}\") \n",
    "print(f\"Image width: {img.width}\")\n",
    "img"
   ]
  },
  {
   "cell_type": "code",
   "execution_count": 8,
   "metadata": {},
   "outputs": [
    {
     "name": "stderr",
     "output_type": "stream",
     "text": [
      "/home/supriya/anaconda3/lib/python3.11/site-packages/torchvision/io/image.py:13: UserWarning: Failed to load image Python extension: '/home/supriya/anaconda3/lib/python3.11/site-packages/torchvision/image.so: undefined symbol: _ZN3c1017RegisterOperatorsD1Ev'If you don't plan on using image functionality from `torchvision.io`, you can ignore this warning. Otherwise, there might be something wrong with your environment. Did you have `libjpeg` or `libpng` installed before building `torchvision` from source?\n",
      "  warn(\n"
     ]
    }
   ],
   "source": [
    "import os\n",
    "import pathlib\n",
    "import torch\n",
    "\n",
    "from PIL import Image\n",
    "from torch.utils.data import Dataset\n",
    "from torchvision import transforms\n",
    "from typing import Tuple, Dict, List"
   ]
  },
  {
   "cell_type": "code",
   "execution_count": 9,
   "metadata": {},
   "outputs": [],
   "source": [
    "\n",
    "data_transform = transforms.Compose([\n",
    "    transforms.Resize(size=(64, 64)),\n",
    "    transforms.ToTensor() \n",
    "])"
   ]
  },
  {
   "cell_type": "code",
   "execution_count": 10,
   "metadata": {},
   "outputs": [],
   "source": [
    "def find_classes(directory: str) -> Tuple[List[str], Dict[str, int]]:\n",
    "   \n",
    "    classes = sorted(entry.name for entry in os.scandir(directory) if entry.is_dir())\n",
    "    \n",
    "    if not classes:\n",
    "        raise FileNotFoundError(f\"Couldn't find any classes in {directory}.\")\n",
    "        \n",
    "    class_to_idx = {cls_name: i for i, cls_name in enumerate(classes)}\n",
    "    return classes, class_to_idx"
   ]
  },
  {
   "cell_type": "code",
   "execution_count": 11,
   "metadata": {},
   "outputs": [
    {
     "data": {
      "text/plain": [
       "(['consonants', 'numerals', 'vowels'],\n",
       " {'consonants': 0, 'numerals': 1, 'vowels': 2})"
      ]
     },
     "execution_count": 11,
     "metadata": {},
     "output_type": "execute_result"
    }
   ],
   "source": [
    "find_classes(data_dir)"
   ]
  },
  {
   "cell_type": "code",
   "execution_count": 13,
   "metadata": {},
   "outputs": [],
   "source": [
    "\n",
    "from torch.utils.data import Dataset\n",
    "class CustomDataset(Dataset):\n",
    "    def __init__(self, targ_dir: str, transform=None) -> None:\n",
    "        \n",
    "        self.paths = list(pathlib.Path(targ_dir).glob(\"*/*.jpg\"))\n",
    "        self.transform = transform\n",
    "        self.classes, self.class_to_idx = find_classes(targ_dir)\n",
    "\n",
    "    def load_image(self, index: int) -> Image.Image:\n",
    "        image_path = self.paths[index]\n",
    "        return Image.open(image_path) \n",
    "    \n",
    "    def __len__(self) -> int:\n",
    "        \"Returns the total number of samples.\"\n",
    "        return len(self.paths)\n",
    "    \n",
    "    def __getitem__(self, index: int) -> Tuple[torch.Tensor, int]:\n",
    "        \"Returns one sample of data, data and label (X, y).\"\n",
    "        img = self.load_image(index)\n",
    "        class_name  = self.paths[index].parent.name \n",
    "        class_idx = self.class_to_idx[class_name]\n",
    "\n",
    "        if self.transform:\n",
    "            return self.transform(img), class_idx \n",
    "        else:\n",
    "            return img, class_idx"
   ]
  },
  {
   "cell_type": "code",
   "execution_count": 14,
   "metadata": {},
   "outputs": [],
   "source": [
    "dataset = CustomDataset(data_dir)"
   ]
  },
  {
   "cell_type": "code",
   "execution_count": 16,
   "metadata": {},
   "outputs": [
    {
     "ename": "TypeError",
     "evalue": "'CustomDataset' object is not callable",
     "output_type": "error",
     "traceback": [
      "\u001b[0;31m---------------------------------------------------------------------------\u001b[0m",
      "\u001b[0;31mTypeError\u001b[0m                                 Traceback (most recent call last)",
      "\u001b[1;32m/home/supriya/Desktop/FDV/Devanagari-Character-Prediction/index.ipynb Cell 14\u001b[0m line \u001b[0;36m1\n\u001b[0;32m----> <a href='vscode-notebook-cell:/home/supriya/Desktop/FDV/Devanagari-Character-Prediction/index.ipynb#X16sZmlsZQ%3D%3D?line=0'>1</a>\u001b[0m dataset(\u001b[39m0\u001b[39m)\n",
      "\u001b[0;31mTypeError\u001b[0m: 'CustomDataset' object is not callable"
     ]
    }
   ],
   "source": [
    "dataset(0)"
   ]
  },
  {
   "cell_type": "code",
   "execution_count": 17,
   "metadata": {},
   "outputs": [],
   "source": [
    "import os\n",
    "from typing import List, Dict, Tuple\n",
    "\n",
    "def find_classes(directory: str) -> Tuple[List[str], Dict[str, int]]:\n",
    "    classes = []\n",
    "    for root, dirs, files in os.walk(directory):\n",
    "        for d in dirs:\n",
    "            classes.append(d)\n",
    "    \n",
    "    classes.sort()\n",
    "    \n",
    "    if not classes:\n",
    "        raise FileNotFoundError(f\"Couldn't find any classes in {directory}.\")\n",
    "        \n",
    "    class_to_idx = {cls_name: i for i, cls_name in enumerate(classes)}\n",
    "    return classes, class_to_idx \n"
   ]
  },
  {
   "cell_type": "code",
   "execution_count": 18,
   "metadata": {},
   "outputs": [
    {
     "data": {
      "text/plain": [
       "(['0',\n",
       "  '1',\n",
       "  '2',\n",
       "  '3',\n",
       "  '4',\n",
       "  '5',\n",
       "  '6',\n",
       "  '7',\n",
       "  '8',\n",
       "  '9',\n",
       "  'a',\n",
       "  'aa',\n",
       "  'ae',\n",
       "  'ah',\n",
       "  'ai',\n",
       "  'an',\n",
       "  'ana',\n",
       "  'au',\n",
       "  'ba',\n",
       "  'bha',\n",
       "  'cha',\n",
       "  'chha',\n",
       "  'consonants',\n",
       "  'da',\n",
       "  'daa',\n",
       "  'dha',\n",
       "  'dhaa',\n",
       "  'ee',\n",
       "  'ga',\n",
       "  'gha',\n",
       "  'gya',\n",
       "  'ha',\n",
       "  'i',\n",
       "  'ja',\n",
       "  'jha',\n",
       "  'ka',\n",
       "  'kha',\n",
       "  'kna',\n",
       "  'ksha',\n",
       "  'la',\n",
       "  'ma',\n",
       "  'motosaw',\n",
       "  'na',\n",
       "  'numerals',\n",
       "  'o',\n",
       "  'oo',\n",
       "  'pa',\n",
       "  'patalosaw',\n",
       "  'petchiryosaw',\n",
       "  'pha',\n",
       "  'ra',\n",
       "  'ta',\n",
       "  'taa',\n",
       "  'tha',\n",
       "  'thaa',\n",
       "  'tra',\n",
       "  'u',\n",
       "  'va',\n",
       "  'vowels',\n",
       "  'ya',\n",
       "  'yna'],\n",
       " {'0': 0,\n",
       "  '1': 1,\n",
       "  '2': 2,\n",
       "  '3': 3,\n",
       "  '4': 4,\n",
       "  '5': 5,\n",
       "  '6': 6,\n",
       "  '7': 7,\n",
       "  '8': 8,\n",
       "  '9': 9,\n",
       "  'a': 10,\n",
       "  'aa': 11,\n",
       "  'ae': 12,\n",
       "  'ah': 13,\n",
       "  'ai': 14,\n",
       "  'an': 15,\n",
       "  'ana': 16,\n",
       "  'au': 17,\n",
       "  'ba': 18,\n",
       "  'bha': 19,\n",
       "  'cha': 20,\n",
       "  'chha': 21,\n",
       "  'consonants': 22,\n",
       "  'da': 23,\n",
       "  'daa': 24,\n",
       "  'dha': 25,\n",
       "  'dhaa': 26,\n",
       "  'ee': 27,\n",
       "  'ga': 28,\n",
       "  'gha': 29,\n",
       "  'gya': 30,\n",
       "  'ha': 31,\n",
       "  'i': 32,\n",
       "  'ja': 33,\n",
       "  'jha': 34,\n",
       "  'ka': 35,\n",
       "  'kha': 36,\n",
       "  'kna': 37,\n",
       "  'ksha': 38,\n",
       "  'la': 39,\n",
       "  'ma': 40,\n",
       "  'motosaw': 41,\n",
       "  'na': 42,\n",
       "  'numerals': 43,\n",
       "  'o': 44,\n",
       "  'oo': 45,\n",
       "  'pa': 46,\n",
       "  'patalosaw': 47,\n",
       "  'petchiryosaw': 48,\n",
       "  'pha': 49,\n",
       "  'ra': 50,\n",
       "  'ta': 51,\n",
       "  'taa': 52,\n",
       "  'tha': 53,\n",
       "  'thaa': 54,\n",
       "  'tra': 55,\n",
       "  'u': 56,\n",
       "  'va': 57,\n",
       "  'vowels': 58,\n",
       "  'ya': 59,\n",
       "  'yna': 60})"
      ]
     },
     "execution_count": 18,
     "metadata": {},
     "output_type": "execute_result"
    }
   ],
   "source": [
    "find_classes(data_dir)"
   ]
  },
  {
   "cell_type": "code",
   "execution_count": 17,
   "metadata": {},
   "outputs": [],
   "source": [
    "train_transforms = transforms.Compose([\n",
    "    transforms.Resize((224,224)),\n",
    "    transforms.ToTensor()\n",
    "])\n",
    "test_transforms = transforms.Compose([\n",
    "    transforms.Resize((224,224)),\n",
    "    transforms.ToTensor()\n",
    "])"
   ]
  },
  {
   "cell_type": "code",
   "execution_count": 18,
   "metadata": {},
   "outputs": [
    {
     "ename": "NameError",
     "evalue": "name 'train' is not defined",
     "output_type": "error",
     "traceback": [
      "\u001b[0;31m---------------------------------------------------------------------------\u001b[0m",
      "\u001b[0;31mNameError\u001b[0m                                 Traceback (most recent call last)",
      "\u001b[1;32m/home/supriya/Desktop/FDV/Devanagari-Character-Prediction/index.ipynb Cell 18\u001b[0m line \u001b[0;36m1\n\u001b[0;32m----> <a href='vscode-notebook-cell:/home/supriya/Desktop/FDV/Devanagari-Character-Prediction/index.ipynb#X23sZmlsZQ%3D%3D?line=0'>1</a>\u001b[0m train\n",
      "\u001b[0;31mNameError\u001b[0m: name 'train' is not defined"
     ]
    }
   ],
   "source": [
    "train"
   ]
  }
 ],
 "metadata": {
  "kernelspec": {
   "display_name": "base",
   "language": "python",
   "name": "python3"
  },
  "language_info": {
   "codemirror_mode": {
    "name": "ipython",
    "version": 3
   },
   "file_extension": ".py",
   "mimetype": "text/x-python",
   "name": "python",
   "nbconvert_exporter": "python",
   "pygments_lexer": "ipython3",
   "version": "3.11.5"
  }
 },
 "nbformat": 4,
 "nbformat_minor": 2
}
